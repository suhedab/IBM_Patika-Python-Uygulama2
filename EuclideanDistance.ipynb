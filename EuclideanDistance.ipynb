{
 "cells": [
  {
   "cell_type": "code",
   "execution_count": 1,
   "id": "184048fa-04e7-4bff-9767-c8ddae2a56c2",
   "metadata": {},
   "outputs": [
    {
     "name": "stdout",
     "output_type": "stream",
     "text": [
      "Minimum distance:  2.8284271247461903\n"
     ]
    }
   ],
   "source": [
    "import math\n",
    "points = [(1, 2), (3, 4), (5, 6), (7, 8) ]\n",
    "\n",
    "def euclideanDistance(point1, point2):\n",
    "    x1, y1 = point1\n",
    "    x2, y2 = point2\n",
    "\n",
    "    distance = math.sqrt( (x2-x1)**2 + (y2-y1)**2 )\n",
    "    return distance\n",
    "\n",
    "distances=[]\n",
    "for i in range (len(points)):\n",
    "    for j in range(i+1, len(points)):\n",
    "        distance = euclideanDistance(points[i], points[j])\n",
    "        distances.append(distance)\n",
    "\n",
    "min_distance = min(distances)\n",
    "\n",
    "print(\"Minimum distance: \", min_distance)"
   ]
  },
  {
   "cell_type": "code",
   "execution_count": null,
   "id": "a600ecf0-fc18-45fc-b92a-34775926a634",
   "metadata": {},
   "outputs": [],
   "source": []
  }
 ],
 "metadata": {
  "kernelspec": {
   "display_name": "Python 3 (ipykernel)",
   "language": "python",
   "name": "python3"
  },
  "language_info": {
   "codemirror_mode": {
    "name": "ipython",
    "version": 3
   },
   "file_extension": ".py",
   "mimetype": "text/x-python",
   "name": "python",
   "nbconvert_exporter": "python",
   "pygments_lexer": "ipython3",
   "version": "3.12.3"
  }
 },
 "nbformat": 4,
 "nbformat_minor": 5
}
